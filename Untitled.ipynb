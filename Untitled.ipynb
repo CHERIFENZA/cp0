{
 "cells": [
  {
   "cell_type": "code",
   "execution_count": 7,
   "id": "504e277a",
   "metadata": {},
   "outputs": [],
   "source": [
    "from math import sqrt"
   ]
  },
  {
   "cell_type": "code",
   "execution_count": 8,
   "id": "7ec258f9",
   "metadata": {},
   "outputs": [
    {
     "data": {
      "text/plain": [
       "5.0"
      ]
     },
     "execution_count": 8,
     "metadata": {},
     "output_type": "execute_result"
    }
   ],
   "source": [
    "sqrt(25)"
   ]
  },
  {
   "cell_type": "code",
   "execution_count": 11,
   "id": "b553a30d",
   "metadata": {},
   "outputs": [
    {
     "data": {
      "text/plain": [
       "64"
      ]
     },
     "execution_count": 11,
     "metadata": {},
     "output_type": "execute_result"
    }
   ],
   "source": [
    "2**6"
   ]
  },
  {
   "cell_type": "code",
   "execution_count": 12,
   "id": "e6b4fd23",
   "metadata": {},
   "outputs": [
    {
     "data": {
      "text/plain": [
       "3"
      ]
     },
     "execution_count": 12,
     "metadata": {},
     "output_type": "execute_result"
    }
   ],
   "source": [
    "2+1"
   ]
  },
  {
   "cell_type": "code",
   "execution_count": 9,
   "id": "13a6d026",
   "metadata": {
    "scrolled": false
   },
   "outputs": [
    {
     "name": "stdout",
     "output_type": "stream",
     "text": [
      " what's your name CHERIF\n"
     ]
    }
   ],
   "source": [
    "name = input (\" what's your name \")"
   ]
  },
  {
   "cell_type": "code",
   "execution_count": 24,
   "id": "a537531e",
   "metadata": {},
   "outputs": [
    {
     "name": "stdout",
     "output_type": "stream",
     "text": [
      "Quel est votre age? 61\n",
      "votre age est: 61\n",
      "Vous ne travaillez pas\n"
     ]
    }
   ],
   "source": [
    "age = int(input(\"Quel est votre age? \"))\n",
    "print('votre age est:', age)\n",
    "\n",
    "if age < 18 or age > 60: \n",
    "    print (\"Vous ne travaillez pas\")\n",
    "else: \n",
    "    print (\"vous travaillez\")"
   ]
  },
  {
   "cell_type": "code",
   "execution_count": 25,
   "id": "42747b16",
   "metadata": {},
   "outputs": [
    {
     "name": "stdout",
     "output_type": "stream",
     "text": [
      "Quel est votre age? 25\n",
      "votre age est: 25\n",
      "vous travaillez\n"
     ]
    }
   ],
   "source": [
    "age = int(input(\"Quel est votre age? \"))\n",
    "print('votre age est:', age)\n",
    "\n",
    "if age < 18 or age > 60: \n",
    "    print (\"Vous ne travaillez pas\")\n",
    "else: \n",
    "    print (\"vous travaillez\")\n"
   ]
  },
  {
   "cell_type": "code",
   "execution_count": 34,
   "id": "4e19e43e",
   "metadata": {},
   "outputs": [
    {
     "name": "stdout",
     "output_type": "stream",
     "text": [
      "Quel est votre poids? 65\n",
      "votre poids est: 65.0\n",
      "vous avez un poids ideal\n"
     ]
    }
   ],
   "source": [
    "weight = float(input(\"Quel est votre poids? \"))\n",
    "print('votre poids est:', weight)\n",
    "\n",
    "if weight > 90.5: \n",
    "    print (\"Vous etes en surpoids\")\n",
    "else: \n",
    "    print (\"vous avez un poids ideal\")"
   ]
  },
  {
   "cell_type": "code",
   "execution_count": 37,
   "id": "3618927f",
   "metadata": {},
   "outputs": [
    {
     "name": "stdout",
     "output_type": "stream",
     "text": [
      "quel est votre taille183\n",
      "votre taille est : 1.83\n",
      " vous etes tall\n"
     ]
    }
   ],
   "source": [
    "size = float( input (\"quel est votre taille\")) / 100\n",
    "print ('votre taille est :',size)\n",
    "imc = weight / (size**2)\n",
    "if size >1.70 :\n",
    "    print(\" vous etes tall\")\n",
    "else : \n",
    "    print (\"vous etes short\")"
   ]
  },
  {
   "cell_type": "code",
   "execution_count": 38,
   "id": "757bd0e9",
   "metadata": {},
   "outputs": [
    {
     "data": {
      "text/plain": [
       "19.409358296754156"
      ]
     },
     "execution_count": 38,
     "metadata": {},
     "output_type": "execute_result"
    }
   ],
   "source": [
    "imc"
   ]
  },
  {
   "cell_type": "code",
   "execution_count": null,
   "id": "a2c1a7ef",
   "metadata": {},
   "outputs": [],
   "source": []
  }
 ],
 "metadata": {
  "kernelspec": {
   "display_name": "Python 3 (ipykernel)",
   "language": "python",
   "name": "python3"
  },
  "language_info": {
   "codemirror_mode": {
    "name": "ipython",
    "version": 3
   },
   "file_extension": ".py",
   "mimetype": "text/x-python",
   "name": "python",
   "nbconvert_exporter": "python",
   "pygments_lexer": "ipython3",
   "version": "3.10.9"
  }
 },
 "nbformat": 4,
 "nbformat_minor": 5
}
